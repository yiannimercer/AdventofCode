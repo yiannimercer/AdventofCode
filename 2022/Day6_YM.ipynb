{
 "cells": [
  {
   "cell_type": "markdown",
   "metadata": {
    "collapsed": false
   },
   "source": [
    "# Advent of Code \\- Day 6\n",
    "\n"
   ]
  },
  {
   "cell_type": "code",
   "execution_count": 11,
   "metadata": {
    "collapsed": false
   },
   "outputs": [
   ],
   "source": [
    "from aocd import data, submit"
   ]
  },
  {
   "cell_type": "markdown",
   "metadata": {
    "collapsed": false
   },
   "source": [
    "## High Level Overview\n",
    "\n",
    "- Data is a long string \n",
    "- We want to identify the first N _different_ character within the string and pull the position \\(not index\\) of the string right after these four \\(where the start of the marker is\\)\n",
    "\n",
    "## Approach\n",
    "\n",
    "- Grab N items at a time, starting with the first character, check if they are all different, if not move on to the next N items, except this time start 1 position further and count N items\n",
    "- Develop function using indexing \n",
    "- Use set\\(\\) function to get unique values \\-\\- from here we can check if the length of the set is equal to the \\# we want\n",
    "- Create a blank processed list\n",
    "  - If the subset of characters from the string are not all different, then we will append the first character to the processed list and move onto the next subgroup... and continue into they are all different\n",
    "- Our answer will be the length \n",
    "\n"
   ]
  },
  {
   "cell_type": "code",
   "execution_count": 182,
   "metadata": {
    "collapsed": false
   },
   "outputs": [
   ],
   "source": [
    "def start_of_packet_marker(data_string, n):\n",
    "    processed = []\n",
    "    for i in range(len(data) - n-1):\n",
    "        if len(set(list(data[i:i+n]))) != n:\n",
    "            processed.append(data[i])\n",
    "        else:\n",
    "            break\n",
    "    processed = ''.join(processed)\n",
    "    answer = len(processed) + n\n",
    "    return answer"
   ]
  },
  {
   "cell_type": "code",
   "execution_count": 185,
   "metadata": {
    "collapsed": false,
    "scrolled": true
   },
   "outputs": [
    {
     "name": "stdout",
     "output_type": "stream",
     "text": [
      "Part A answer:  1155\n",
      "Part B answer:  2789\n"
     ]
    }
   ],
   "source": [
    "print(\"Part A answer: \",start_of_packet_marker(data, 4))\n",
    "print(\"Part B answer: \",start_of_packet_marker(data, 14))"
   ]
  },
  {
   "cell_type": "code",
   "execution_count": 186,
   "metadata": {
    "collapsed": false
   },
   "outputs": [
   ],
   "source": [
    "submit(start_of_packet_marker(data, 14), part = 'b')\n",
    "submit(start_of_packet_marker(data, 14), part = 'b')"
   ]
  },
  {
   "cell_type": "code",
   "execution_count": 0,
   "metadata": {
    "collapsed": false
   },
   "outputs": [
   ],
   "source": [
   ]
  }
 ],
 "metadata": {
  "kernelspec": {
   "display_name": "Python 3 (Ubuntu Linux)",
   "language": "python",
   "name": "python3-ubuntu",
   "resource_dir": "/usr/local/share/jupyter/kernels/python3-ubuntu"
  },
  "language_info": {
   "codemirror_mode": {
    "name": "ipython",
    "version": 3
   },
   "file_extension": ".py",
   "mimetype": "text/x-python",
   "name": "python",
   "nbconvert_exporter": "python",
   "pygments_lexer": "ipython3",
   "version": "3.8.10"
  }
 },
 "nbformat": 4,
 "nbformat_minor": 4
}