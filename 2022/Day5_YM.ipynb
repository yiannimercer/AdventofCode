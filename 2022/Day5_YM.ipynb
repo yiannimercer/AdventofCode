{
 "cells": [
  {
   "cell_type": "markdown",
   "metadata": {
    "collapsed": false
   },
   "source": [
    "# Advent of Code \\- Day 5\n",
    "\n",
    "**After the rearrangement procedure completes, what crate ends up on top of each stack?**\n"
   ]
  },
  {
   "cell_type": "code",
   "execution_count": 1,
   "metadata": {
    "collapsed": false
   },
   "outputs": [
   ],
   "source": [
    "from aocd import data, submit\n",
    "from parse import parse"
   ]
  },
  {
   "cell_type": "code",
   "execution_count": 2,
   "metadata": {
    "collapsed": false
   },
   "outputs": [
   ],
   "source": [
    "crates_data, rearrangements = data.split('\\n\\n')"
   ]
  },
  {
   "cell_type": "markdown",
   "metadata": {
    "collapsed": false
   },
   "source": [
    "## Part A & B\n",
    "\n"
   ]
  },
  {
   "cell_type": "code",
   "execution_count": 3,
   "metadata": {
    "collapsed": false
   },
   "outputs": [
    {
     "data": {
      "text/plain": [
       "['[P]     [L]         [T]            ',\n",
       " '[L]     [M] [G]     [G]     [S]    ',\n",
       " '[M]     [Q] [W]     [H] [R] [G]    ',\n",
       " '[N]     [F] [M]     [D] [V] [R] [N]',\n",
       " '[W]     [G] [Q] [P] [J] [F] [M] [C]',\n",
       " '[V] [H] [B] [F] [H] [M] [B] [H] [B]',\n",
       " '[B] [Q] [D] [T] [T] [B] [N] [L] [D]',\n",
       " '[H] [M] [N] [Z] [M] [C] [M] [P] [P]',\n",
       " ' 1   2   3   4   5   6   7   8   9 ']"
      ]
     },
     "execution_count": 3,
     "metadata": {
     },
     "output_type": "execute_result"
    }
   ],
   "source": [
    "crates_data.splitlines()"
   ]
  },
  {
   "cell_type": "markdown",
   "metadata": {
    "collapsed": false
   },
   "source": [
    "### Notes & Process\n",
    "\n",
    "1. Get each crate into a dictionary with key representing stack \\# and values represent each supply crate\n",
    "2. Considering each move statement is in the same format, we can parse out the important variable to each step:\n",
    "   1. Number of crates to move \n",
    "   2. From which stack\n",
    "   3. To which stack\"\n",
    "\n"
   ]
  },
  {
   "cell_type": "markdown",
   "metadata": {
    "collapsed": false
   },
   "source": [
    "### Data Preprocessing\n",
    "\n"
   ]
  },
  {
   "cell_type": "code",
   "execution_count": 4,
   "metadata": {
    "collapsed": false
   },
   "outputs": [
    {
     "data": {
      "text/plain": [
       "{1: 'PLMNWVBH',\n",
       " 2: 'HQM',\n",
       " 3: 'LMQFGBDN',\n",
       " 4: 'GWMQFTZ',\n",
       " 5: 'PHTM',\n",
       " 6: 'TGHDJMBC',\n",
       " 7: 'RVFBNM',\n",
       " 8: 'SGRMHLP',\n",
       " 9: 'NCBDP'}"
      ]
     },
     "execution_count": 4,
     "metadata": {
     },
     "output_type": "execute_result"
    }
   ],
   "source": [
    "# INTIALIZE EMPTY DICTIONARY TO HOLD EACH STACKS' CRATES\n",
    "crates_dict = {}\n",
    "\n",
    "# ITERATE THROUGH THE ZIPPED CRATES_DATA AND SAVE THE CRATES AS A STRING VALUE AND THE STACK NUMBER AS A DIGIT KEY\n",
    "for *stack, stack_num in zip(*crates_data.split(\"\\n\")): # ZIP STACK OF CRATES TOGETHER WITH STACK NUMBER\n",
    "    if stack_num.isdigit(): # IF ZIPPED STACK & STACK NUM OBJECT ENDS IN A DIGIT, IT'S A REAL STACK AND WE WILL ADD TO A DICTIONARY WITH KEY == STACK_NUM & VALUES == CRATE NAMES/LETTERS\n",
    "        crates_dict[int(stack_num)] = \"\".join(crate for crate in stack if crate.isupper())\n",
    "\n",
    "# PRINT CRATES_DICT\n",
    "crates_dict"
   ]
  },
  {
   "cell_type": "code",
   "execution_count": 5,
   "metadata": {
    "collapsed": false,
    "scrolled": true
   },
   "outputs": [
    {
     "data": {
      "text/plain": [
       "[(8, 3, 2), (1, 9, 5), (5, 4, 7), (6, 1, 4), (8, 6, 8)]"
      ]
     },
     "execution_count": 5,
     "metadata": {
     },
     "output_type": "execute_result"
    }
   ],
   "source": [
    "# INTIALIZE EMPTY DICTIONARY TO HOLD EACH REARRAGEMENT STEP\n",
    "steps = []\n",
    "\n",
    "# ITERATE THROUGH EACH REARRAGEMENT STEP AND SAVE THE DIGITS TO THE ABOVE LIST\n",
    "for line in rearrangements.splitlines():\n",
    "    num_to_move, from_stack, to_stack = parse(\"move {:d} from {:d} to {:d}\", line).fixed\n",
    "    steps.append((num_to_move, from_stack, to_stack))\n",
    "\n",
    "# PRINT THE FIRST COUPLE REARRAGEMENT STEPS\n",
    "steps[:5]"
   ]
  },
  {
   "cell_type": "markdown",
   "metadata": {
    "collapsed": false
   },
   "source": [
    "### Working Example\n",
    "\n"
   ]
  },
  {
   "cell_type": "code",
   "execution_count": 6,
   "metadata": {
    "collapsed": false
   },
   "outputs": [
   ],
   "source": [
    "# SET UP AN EXAMPLE STACK W/ CRATES, AND AN EXAMPLE REARRAGEMENT\n",
    "stacks = {1:'PLMNWVBH',\n",
    "          2:'HQM',\n",
    "          3:'LMQFGBDN'}\n",
    "step1 = (2, 3, 2)"
   ]
  },
  {
   "cell_type": "code",
   "execution_count": 7,
   "metadata": {
    "collapsed": false
   },
   "outputs": [
   ],
   "source": [
    "# ASSIGN THE NUMBERS TO VARIABLES\n",
    "num_of_crates_to_move = step1[0]\n",
    "from_stack = step1[1]\n",
    "to_stack = step1[2]"
   ]
  },
  {
   "cell_type": "code",
   "execution_count": 8,
   "metadata": {
    "collapsed": false
   },
   "outputs": [
    {
     "name": "stdout",
     "output_type": "stream",
     "text": [
      "We are going to move 2 crates from stack number 3 to stack number 2\n"
     ]
    }
   ],
   "source": [
    "print(f\"We are going to move {num_of_crates_to_move} crates from stack number {from_stack} to stack number {to_stack}\")"
   ]
  },
  {
   "cell_type": "code",
   "execution_count": 9,
   "metadata": {
    "collapsed": false
   },
   "outputs": [
   ],
   "source": [
    "# GRAB THE CRATES WE WANT TO MOVE\n",
    "crates_to_move = stacks[from_stack][:num_of_crates_to_move][::-1] # MAKE SURE WE REVERSE THE ORDERING\n",
    "\n",
    "# REMOVE THE CRATES FROM THE FROM STACK\n",
    "stacks[from_stack] = stacks[from_stack][num_of_crates_to_move:]\n",
    "\n",
    "# PUT THE CRATES IN THE TO STACK (MAKE SURE THEY GO ON TOP/IN FRONT)\n",
    "stacks[to_stack] = crates_to_move + stacks[to_stack]"
   ]
  },
  {
   "cell_type": "code",
   "execution_count": 10,
   "metadata": {
    "collapsed": false
   },
   "outputs": [
    {
     "name": "stdout",
     "output_type": "stream",
     "text": [
      "ML\n"
     ]
    },
    {
     "data": {
      "text/plain": [
       "{1: 'PLMNWVBH', 2: 'MLHQM', 3: 'QFGBDN'}"
      ]
     },
     "execution_count": 10,
     "metadata": {
     },
     "output_type": "execute_result"
    }
   ],
   "source": [
    "print(crates_to_move)\n",
    "stacks"
   ]
  },
  {
   "cell_type": "markdown",
   "metadata": {
    "collapsed": false
   },
   "source": [
    "### Stack Rearranger Function\n",
    "\n",
    "#### Part A\n",
    "\n",
    "The function was originally built for part a, where the crane could only move one crate at a time, and therefore we had to reverse the order to the crates when moving from one stack to another. \n",
    "\n",
    "#### Part B\n",
    "\n",
    "The function was amended to also compute part b, where the crane has the ability to pick up and move multiple crates at once... i.e., _we don't need to reverse the order the crates when moving._  Therefore, the one\\-liner if statement was simply added and instead of using \\[::\\-1\\], we changed this to be a variable 'reverse' so if we are doing part a, than reverse ordrering, if not, don't reverse it!\n"
   ]
  },
  {
   "cell_type": "code",
   "execution_count": 18,
   "metadata": {
    "collapsed": false
   },
   "outputs": [
   ],
   "source": [
    "def stack_rearranger(crates_dictionary, rearragement_steps, part):\n",
    "    '''\n",
    "    \"\"\"Apply rearragement steps to the crates dictionary\n",
    "\n",
    "    Args:\n",
    "        crates_dictionary [dict]: Python dictionary with the stack number as the key and the crate ordering as a string for the values\n",
    "        rearragement_steps [dict]: Python list of tuples representing the rearragement step variables (# of crates to move, from stack, to stack)\n",
    "        part [str]: string indicating what part of the Advent of Code Puzzle I am on\n",
    "    Returns:\n",
    "        Rearranged crate_dictionary\n",
    "    '''\n",
    "    # MAKE A COPY OF THE ORIGINAL DATA\n",
    "    crates_dictionary_copy = crates_dictionary.copy()\n",
    "\n",
    "    # ONE LINER IF STATEMENT (https://stackoverflow.com/questions/7872838/one-line-if-condition-assignment)\n",
    "    reverse = -1 if part=='a' else None \n",
    "    for num_of_crates_to_move, from_stack, to_stack in rearragement_steps:\n",
    "        # GRAB THE CRATES WE WANT TO MOVE\n",
    "        crates_to_move = crates_dictionary_copy[from_stack][:num_of_crates_to_move][::reverse] # MAKE SURE WE REVERSE THE ORDERING IF PART A \n",
    "\n",
    "        # REMOVE THE CRATES FROM THE FROM STACK\n",
    "        crates_dictionary_copy[from_stack] = crates_dictionary_copy[from_stack][num_of_crates_to_move:]\n",
    "\n",
    "        # PUT THE CRATES IN THE TO STACK (MAKE SURE THEY GO ON TOP/IN FRONT)\n",
    "        crates_dictionary_copy[to_stack] = crates_to_move + crates_dictionary_copy[to_stack]\n",
    "\n",
    "    # PRINT AND SAVE ANSWERS\n",
    "    top_crates = ''.join([crate[0] for crate in crates_dictionary_copy.values()])\n",
    "    print(f\"Part {part} Top Crates: {top_crates}\")\n",
    "\n",
    "    # RETURN TOP CRATES TO SUBMIT ANSWER\n",
    "    return top_crates"
   ]
  },
  {
   "cell_type": "code",
   "execution_count": 19,
   "metadata": {
    "collapsed": false
   },
   "outputs": [
    {
     "name": "stdout",
     "output_type": "stream",
     "text": [
      "Part a Top Crates: WHTLRMZRC\n",
      "Part b Top Crates: GMPMLWNMG\n"
     ]
    }
   ],
   "source": [
    "# GET REARRANGED DICTIONARIES FOR PART A\n",
    "top_crates_a = stack_rearranger(crates_dict, steps, part='a')\n",
    "top_crates_b = stack_rearranger(crates_dict, steps, part='b')"
   ]
  },
  {
   "cell_type": "code",
   "execution_count": 20,
   "metadata": {
    "collapsed": false
   },
   "outputs": [
    {
     "name": "stdout",
     "output_type": "stream",
     "text": [
      "Part a already solved with same answer: WHTLRMZRC\n"
     ]
    }
   ],
   "source": [
    "submit(top_crates_a, part='a')"
   ]
  },
  {
   "cell_type": "code",
   "execution_count": 21,
   "metadata": {
    "collapsed": false
   },
   "outputs": [
    {
     "name": "stdout",
     "output_type": "stream",
     "text": [
      "Part b already solved with same answer: GMPMLWNMG\n"
     ]
    }
   ],
   "source": [
    "submit(top_crates_b, part='b')"
   ]
  }
 ],
 "metadata": {
  "kernelspec": {
   "display_name": "Python 3 (Ubuntu Linux)",
   "language": "python",
   "name": "python3-ubuntu",
   "resource_dir": "/usr/local/share/jupyter/kernels/python3-ubuntu"
  },
  "language_info": {
   "codemirror_mode": {
    "name": "ipython",
    "version": 3
   },
   "file_extension": ".py",
   "mimetype": "text/x-python",
   "name": "python",
   "nbconvert_exporter": "python",
   "pygments_lexer": "ipython3",
   "version": "3.8.10"
  }
 },
 "nbformat": 4,
 "nbformat_minor": 4
}