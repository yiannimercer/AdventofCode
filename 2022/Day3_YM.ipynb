{
 "cells": [
  {
   "cell_type": "markdown",
   "metadata": {},
   "source": [
    "# Advent of Code Day 3"
   ]
  },
  {
   "cell_type": "code",
   "execution_count": 18,
   "metadata": {},
   "outputs": [],
   "source": [
    "from aocd import get_data, submit\n",
    "import os\n",
    "from wimpy import chunks"
   ]
  },
  {
   "cell_type": "code",
   "execution_count": 2,
   "metadata": {},
   "outputs": [
    {
     "name": "stdout",
     "output_type": "stream",
     "text": [
      "environ({'ELECTRON_RUN_AS_NODE': '1', 'MallocNanoZone': '0', 'USER': 'yiannimercer', 'COMMAND_MODE': 'unix2003', '__CFBundleIdentifier': 'com.microsoft.VSCode', 'PATH': '/Users/yiannimercer/opt/anaconda3/bin:/usr/local/sbin:/usr/local/sbin:/Users/yiannimercer/opt/anaconda3/bin:/Users/yiannimercer/opt/anaconda3/condabin:/Library/Frameworks/Python.framework/Versions/3.9/bin:/usr/local/bin:/System/Cryptexes/App/usr/bin:/usr/bin:/bin:/usr/sbin:/sbin:/opt/X11/bin:/Library/Apple/usr/bin', 'LOGNAME': 'yiannimercer', 'DISPLAY': '/private/tmp/com.apple.launchd.gMcj6mNRS5/org.macosforge.xquartz:0', 'SSH_AUTH_SOCK': '/private/tmp/com.apple.launchd.W0FHeZ8Ayj/Listeners', 'HOME': '/Users/yiannimercer', 'SHELL': '/bin/zsh', 'TMPDIR': '/var/folders/2b/2gymnh4n5b9gbn5mkb53v6wr0000gn/T/', '__CF_USER_TEXT_ENCODING': '0x1F5:0x0:0x0', 'XPC_SERVICE_NAME': '0', 'XPC_FLAGS': '0x0', 'ORIGINAL_XDG_CURRENT_DESKTOP': 'undefined', 'VSCODE_CWD': '/', 'VSCODE_NLS_CONFIG': '{\"locale\":\"en-us\",\"availableLanguages\":{},\"_languagePackSupport\":true}', 'VSCODE_CODE_CACHE_PATH': '/Users/yiannimercer/Library/Application Support/Code/CachedData/6261075646f055b99068d3688932416f2346dd3b', 'VSCODE_IPC_HOOK': '/Users/yiannimercer/Library/Application Support/Code/1.73.1-main.sock', 'VSCODE_PID': '33542', 'SHLVL': '2', 'PWD': '/', 'OLDPWD': '/', 'CONDA_EXE': '/Users/yiannimercer/opt/anaconda3/bin/conda', '_CE_M': '', '_CE_CONDA': '', 'CONDA_PYTHON_EXE': '/Users/yiannimercer/opt/anaconda3/bin/python', 'CONDA_SHLVL': '1', 'CONDA_PREFIX': '/Users/yiannimercer/opt/anaconda3', 'CONDA_DEFAULT_ENV': 'base', 'CONDA_PROMPT_MODIFIER': '(base) ', '_': '/Users/yiannimercer/opt/anaconda3/bin/python', 'VSCODE_AMD_ENTRYPOINT': 'vs/workbench/api/node/extensionHostProcess', 'VSCODE_HANDLES_UNCAUGHT_ERRORS': 'true', 'APPLICATION_INSIGHTS_NO_DIAGNOSTIC_CHANNEL': '1', 'PYTHONUNBUFFERED': '1', 'PYTHONIOENCODING': 'utf-8', 'CONDA_ROOT': '/Users/yiannimercer/opt/anaconda3', 'LC_CTYPE': 'UTF-8', 'PYDEVD_USE_FRAME_EVAL': 'NO', 'TERM': 'xterm-color', 'CLICOLOR': '1', 'PAGER': 'cat', 'GIT_PAGER': 'cat', 'MPLBACKEND': 'module://matplotlib_inline.backend_inline', 'PYDEVD_IPYTHON_COMPATIBLE_DEBUGGING': '1'})\n"
     ]
    }
   ],
   "source": [
    "print(os.environ)"
   ]
  },
  {
   "cell_type": "code",
   "execution_count": 3,
   "metadata": {},
   "outputs": [],
   "source": [
    "os.environ[\"AOC_SESSION\"] = \"53616c7465645f5f5930f348a47fb21df40db6eae4b7eeb760daed1cf0dea1e7bde87c88f05e37e67f7b2e847fd148c351684d2ba1a7b134f1562e2cae11f5a3\"\n"
   ]
  },
  {
   "cell_type": "code",
   "execution_count": 4,
   "metadata": {},
   "outputs": [],
   "source": [
    "data = get_data(day=3, year=2022)"
   ]
  },
  {
   "cell_type": "markdown",
   "metadata": {},
   "source": [
    "## Rulebook/Notes\n",
    "\n",
    "* Each rucksack represents one line of the data \n",
    "* Each rucksack has the same number of items for each of two compartments \n",
    "    * i.e., They always have an even number\n",
    "* Capital and lowercase letters are not the same | e.g., a == A\n",
    "* a-z items have priority 1 - 26\n",
    "* A-Z items have priority 27-52\n",
    "\n",
    "\n",
    "**Find the item type that appears in both compartments of each rucksack. What is the sum of the priorities of those item types?**\n"
   ]
  },
  {
   "cell_type": "code",
   "execution_count": 13,
   "metadata": {},
   "outputs": [],
   "source": [
    "a=0\n",
    "for rucksack in data.splitlines():\n",
    "    i = len(rucksack) // 2  # midpoint\n",
    "    left, right = rucksack[:i], rucksack[i:]\n",
    "    [c] = set(left).intersection(right)\n",
    "    a += c.isupper() * 26\n",
    "    a += ord(c.lower()) - ord(\"a\") + 1\n",
    "        "
   ]
  },
  {
   "cell_type": "code",
   "execution_count": 17,
   "metadata": {},
   "outputs": [
    {
     "name": "stdout",
     "output_type": "stream",
     "text": [
      "That's the right answer!  You are one gold star closer to collecting enough star fruit. [Continue to Part Two]\n"
     ]
    },
    {
     "data": {
      "text/plain": [
       "<Response [200]>"
      ]
     },
     "execution_count": 17,
     "metadata": {},
     "output_type": "execute_result"
    }
   ],
   "source": [
    "submit(a, part='a', day = 3, year=2022)"
   ]
  },
  {
   "cell_type": "code",
   "execution_count": 20,
   "metadata": {},
   "outputs": [
    {
     "data": {
      "text/plain": [
       "['QtGHnGlcwQGvHwMHGnnGfRFCJnRBfVVJRVBfCFBh',\n",
       " 'qsDjzNWhmspNNqVrfjVfjJCbBVfB',\n",
       " 'DLhPTmNDTzTqzpmzLpswGMHtMgwglcPQMQvSGM',\n",
       " 'ctwDjvgtltgglHrSHCsQWBBDfS',\n",
       " 'ZJZdVnmhmfCprnBTfS',\n",
       " 'dNddhhdPRRdbdNcvwCPCgCctjPlF',\n",
       " 'MNNDGMWrQsfhtrTnrm',\n",
       " 'jcvRPRPJdvccRNFNCjLdcwJCSHtHPmzhsSzPHmfhnftnTffH',\n",
       " 'RddRcjRvZgZNWNgQQb',\n",
       " 'fPrvhqhRPSfCCfhrqtbtLcmZmtHCtpCFcc',\n",
       " 'WFQJlTdzgGJVQGWQTzdJcHbQZtLtHmbbZMZHsZQm',\n",
       " 'JFNlzTBNJGlNPSRhfqRRrN',\n",
       " 'tdVVgttdDtJJsNPmzdQmjcPP',\n",
       " 'CBTMmmmbTBHqHMwQcZPWWsWnzbbnzW',\n",
       " 'CGlLFCTMGvqBGvGvGSRSRfmtRRtgVgrSLS',\n",
       " 'LHSGJLWZLqHQHpRHRz',\n",
       " 'bpBPVtpCwPgBCtqqvzfzMQvjbbjz',\n",
       " 'lhVsTgPlBNThpBNwBtVThPnrGGWJZnLZFnFrGWsFrWZr',\n",
       " 'nQbbbjpnsdsGCSlmHtJmvljHMjWt',\n",
       " 'cDcgThLVcPTHVlVlHllvWp',\n",
       " 'cwpgghTcRRczDhnQGGCSdfszdSbS',\n",
       " 'vTMFDNTlDhjTDNMNJDwmWWWfGPfLnnzLGfMmmL',\n",
       " 'bVQgbpqqtctzLflltnCz',\n",
       " 'VSqlVSHRFvNwJSDj',\n",
       " 'RfZfjljffssWLWPTGPjhzT',\n",
       " 'FDCvMDMJJpBJpBFJCMBDMtPbWbLVPGztWPVTtPmLWGhQ',\n",
       " 'DpgHggpwBJwzJMrFFvrCrHsffnRScNsdclSnnRnSNs',\n",
       " 'wTvfHSvSwssPGCLCPhgSCn',\n",
       " 'QNpMRqRJQMZlBBbRRRMfbZlBhPChghhlChGCtnthctjPhchh',\n",
       " 'rrrNBbMZqRbqDsFHTwfWTFFwrF',\n",
       " 'fVgfQhhgfTLHSLNZZHfZ',\n",
       " 'CDtsqrqlDtqDddsqjsstHrSlNLWLcSZScFWWcNBFcBcc',\n",
       " 'jrCJrHjDCMMDsJjJMstThppgwvGzVGQzhJvvng',\n",
       " 'DGlTlSzbSnzmwbmblTBBPgffpNjFHppZBH',\n",
       " 'WqQdWqqJdCrtvQtJLQjtdcBNfPsNZfHZZsHNNZHsBBHL',\n",
       " 'cCJcjdRvqrQhqvWMzlbDGVGbSMSnbR',\n",
       " 'BfQmpfpmsRCRPDSZVSjjSg',\n",
       " 'MhNJGMTMHGGTbnGMJrbJHTzzdPgSwSqqPjPdZddSqNSwPZDw',\n",
       " 'TWbWbhnHWBFBFBDD',\n",
       " 'FrlJbTcBTcrlTlqwZTwWdhWLChLtVhdfLhmwWC',\n",
       " 'pppSpzBGMMMjSSMSzMNzHRSDVWGWDWVCDtGdtdhLhftthd',\n",
       " 'RNNgpMPRNgzggFJcBPqFZJZrbc',\n",
       " 'SdvnnvvntnbDDqtz',\n",
       " 'wRpFRRspZhgZgFggFMgtczcGGDzQcGlGDMqcDG',\n",
       " 'CLLCFNZhsppRvvttBPCjStdT',\n",
       " 'JJDMhSwmMwBnnJPJmQcFtfQtfgQhQQfcgH',\n",
       " 'ZvCvTGqGVWTZZWptQggGtHfDgcpz',\n",
       " 'dsVCvDTZWWbZqqCZqVsqsqmNlPNnSJmbNNmlmMSnJLBl',\n",
       " 'MGnMBMBJFpBcNpdwRWRvRNdblmwW',\n",
       " 'LSgtPCChgjCPgSSzCSqWLLbrdWlmwmwmFvml',\n",
       " 'QhHPVSHghCtQFgCzgQhVnDGMGffnpcZMcMfJDf',\n",
       " 'QwrJqMLRLtBQRtWLJLvQLMrMgNNzPDngNHlHnbbbggHlgZNt',\n",
       " 'GdfThGcmShTGSfppmFfTHDNNblSZDbbzlBzZZHHg',\n",
       " 'TffmGBBFcCFFmTGFhBwjJQJMQWqWQCrrvQMR',\n",
       " 'mRbrjZzRLchHqqdLDllh',\n",
       " 'mCGCsJSggCmgSGShlhhDVVVwhqSltV',\n",
       " 'PsfsGNGJvGPfspvcmrTRBrjTZzvT',\n",
       " 'NRNqFFtqqFrDDQRcJJJNrWDswHwWwbDVTgTwLbVlVD',\n",
       " 'ZpdHHGPmgwTwldbw',\n",
       " 'HnnnMPMzChPmnpnmfFJCRqcJqJRRrrtSBc',\n",
       " 'LnNNLBmTNBNTwNZZjZmRMHJwMHvbWrvPMMWdcP',\n",
       " 'GtSFDFpzsGVvMJdJsrMbvr',\n",
       " 'SqQQGGtqqSVtDpGtplVDpVJClmnhnTZNjNfmnmBChCZL',\n",
       " 'CHltTDsjHNHHdpDRmqdPQpzd',\n",
       " 'fMMbbZwLJgMVVFmcRqRpzdqbRm',\n",
       " 'MJJWfnVhMzTNGlNTsh',\n",
       " 'WtWbtWvrrQGrbcSWHHfSHfgdWJ',\n",
       " 'zpnPhLPhPnTMMnzMzpMnDzLPjTVjccSgdmjdvSJdHSgdjScj',\n",
       " 'qqvMMCnDCCCzqqCzhPlLsRsGtrsNlRbZtBRtbrrQ',\n",
       " 'mPTmlGQnjNTPQQNljnlQnmmCtgRPhghqgqgzqLRPtMqqMzhq',\n",
       " 'pDsVSZcdVspbdBpcBHBcHhqLWzMbfhMMrMgMgzLRft',\n",
       " 'pFZpJJFSBFRllvlFNC',\n",
       " 'pbMVjJbwbbLqlZlstRhjstsN',\n",
       " 'FSTnfCBcnBSBvSmmCFCCRQhZBZNsRGlsQQNsqZlG',\n",
       " 'dvcdfFcqmfcmdMdJgwJJHMbH',\n",
       " 'QSRlWDhQQqDqlTCjTRCSljSmVsPmmGmzsgvppzPVVzdPSP',\n",
       " 'HHwtMNMZvfPGbdwdggwG',\n",
       " 'ZFcNMFFvHLMjlCWrqhqchh',\n",
       " 'jccDSGVVlRLVSVVScWZZwLvbphgwdpLwZv',\n",
       " 'BQHBtfQQHBfmMtmFznrHzmDwghWphvZZFpDhZvgvpZhh',\n",
       " 'DmQrPQnBtTnzrrfHrtfMrmTCGqPNjSPCRRGjRCRRqCNjVN',\n",
       " 'bRDbbtVgPFFbDfgVCtPcGsNNsHccqcGGWCNNzW',\n",
       " 'ZwlmJwwRSmlJdQRhqGNTqzGTwzqGhc',\n",
       " 'ZQdZjpljldrSMjmjdRLdmdbVvvtDVFFffvBFPVBgMnBg',\n",
       " 'rzwGrwPGppqzPMzrdqsssSsvgtQgTTTJsH',\n",
       " 'LCNNHLmHWvCJstsJss',\n",
       " 'cfVLLNBmZBVMVDHGwrhM',\n",
       " 'FCGFrJltMGdFdGtlFtCgFzQfQnZfVVVMDcQDVzVjfD',\n",
       " 'PSPSPZPRbPRsbBRbHBTPvfVzQcDQqWWnDjnnHDjzcz',\n",
       " 'RmSTPwSTRpvSlZglgZprZtNp',\n",
       " 'njtLGLbcNTbbLnLmNTtqnFzVPwJFFzPVFPwMVmfMmV',\n",
       " 'srpZlSpsSVqgSPJJ',\n",
       " 'HZsHsrZhrBQpqQvpdprnTnnHTbGLbHnjHGbjbT',\n",
       " 'vFFnJjvnVSjgCqSCDZ',\n",
       " 'lswrrcsQrHTHwdrDdhmqqsRhzmggghgsGC',\n",
       " 'QPrWQWcDNDHdddNrQPfDMLMLtvvMbnBpPFvpFFvL',\n",
       " 'LgltlRMtcccgMdlzqTVwwrdsqm',\n",
       " 'FpvfSDNzSpnvGSnNpmsmVqVVrHwvTqVmmw',\n",
       " 'pGjDFFDpffnWQbnzjLJhhLchPPJMPBLt',\n",
       " 'lJqBqPvtvVPnttnJjJBjVMzMrFhdQrQFbGbQnrbzGG',\n",
       " 'msRgTgmTLLmsTDRfQRllMdGzdRbMHQFF',\n",
       " 'msfDWglWTpSLCgTpSCDsfPjvjtwVjJZqqSSvPVZSqB',\n",
       " 'VZZWGZGlZZZMZrGMlQBQGWltFzqvzzcVcgzvmgzddccgvqFc',\n",
       " 'rLjNrDRLDRLTqdCqFCNzFgqg',\n",
       " 'TJSSbHfDDfSnbpHpJnGhWPtrZWnPhBwWPWBt',\n",
       " 'ssvsDDjNwhjNhGGgDDRZllltLCLvCWbMffLCfWzb',\n",
       " 'qVRmJFSQqqVcqSMWMWLMlllbtbVM',\n",
       " 'PqQBPcFJFcmdrJPJrFrQpsNjnTGgwTwGssRNRnRBsG',\n",
       " 'sHsJJfSsrpBLHCLJmdqgdZgRNZQlgRNC',\n",
       " 'VtnFbhFhwjwVPPjhbccQDQqgRlWDQmdWZZDd',\n",
       " 'hFhFvbhGwzvFbtbPnttGbtjsLBfspSrMvJLrpJTrMsLZrH',\n",
       " 'nzJDJvvZznnqnZrpTgTpzzTNjlmtsglBjjttQQCgCCtlBj',\n",
       " 'SRLRfdVfSVcfHdVVdSLdMHQjPtClsmcwNQltjwjCQQwm',\n",
       " 'RShVLWWfWWGvsTZz',\n",
       " 'vcdptvndNzrndjctrvcnvtTdbwwRTgwbHDFDTWgqWlWqwqbl',\n",
       " 'ffVBmQPhshhfPmSfBPfChmmCWFWbDWFbWwwqRDbsgwWMbWFb',\n",
       " 'SJJCBLZBhfvnJnpGtvRc',\n",
       " 'HLMMHHpNqWHqFqppPWnshtsLhBnVDtthLLms',\n",
       " 'JgmSRgCRGbgwGSbgJJjRRDntztrVhnsDrllllwhhzt',\n",
       " 'bRRCCjgRvJQQdcdjjvRcQdgbZPZpqfqpHHMfNFqNTPWqQWmq',\n",
       " 'PPwQTlFrLqrLQrPfPJrHtcjtSvdCNNctLCjNdc',\n",
       " 'DGZMhmVRMGqVmVDnGMbBZhsjHNvjdstddjdjccSBSjds',\n",
       " 'mqzVnWDmmGzRhqRbbWQQFwPQQTlzPFpTlPJJ',\n",
       " 'RMmnMrZMlQQpGrQt',\n",
       " 'gPPgcDBcjdgjBCBcQtNDNzzthltGphhz',\n",
       " 'FSvPSSjFWFScSWdjWvbTwWJQZQVRsMTQVwTmVR',\n",
       " 'PwlbMTDQDvMwttThPthhvhvvZzNLzNZjQCNNLWLCRZWQRzNW',\n",
       " 'VpJHFpgfqdFqqHFGHVSdGmZZRnSsnLjNZCWmmszLSz',\n",
       " 'drrJRGJVrcMBDwhDbcMh',\n",
       " 'hghHTgbwHbDqHrgbbbSLzzFNnsVqNVBnLnfs',\n",
       " 'jMlcMRRmGcRlZQMMJRJSPPmCFzBBzpfBfLfpFLszLNNFVCfz',\n",
       " 'JlmGlZmvRMgvrgbrrSTw',\n",
       " 'ZtTTHpprHtQtHtpqPmjVSScjVSjjSNqw',\n",
       " 'nRvGWhRbnRGzvWCBGPjNdwcSwcnlJdmmSj',\n",
       " 'vCbsmbWfRsRWWzsMWBQFFrDZpgpFHLgQLMgQ',\n",
       " 'QlJBfZssjgZsQsDNbScdDZdNcvvF',\n",
       " 'zrGrVVpVMWMwMVLMwqVWpRdNFSDcFNDFbSddqHldDdqd',\n",
       " 'VLVtrWpMRCRLWGWMRwVGCVPfCPJnBTQsJlmjsfsPBQjC',\n",
       " 'GQqpnnFWFcnWpBMhhSZRhQCCCfRQRD',\n",
       " 'HsbcczlrjzflffLVfDlt',\n",
       " 'jssvwsHPsjzWdMcgBnvqMB',\n",
       " 'JMJdMptTbbtpJZhtTMZwJdNWQBPNBlwNBNQWHBCHHPlg',\n",
       " 'rVqsvVmjrcCqCPsPNQgnsnQglW',\n",
       " 'rVvzfqvLjFVDVcLjCqLmJFGbpJpRJTGMtbRpdGRG',\n",
       " 'LrmwdZHlSlcVlSrrDWCzbtpjpgzjtD',\n",
       " 'gBGgPTTBqPQTqnnPJhMTTCzzppnCvptpnCtzNpDntz',\n",
       " 'qQPTTPshRRQqcgsflHZcsSLV',\n",
       " 'smvdTvlPzslmVjMhJlbjrblJ',\n",
       " 'cqFffFffcwFfpcDSjcnZwZWrQVDrQBhNbrrNBbWVbNhr',\n",
       " 'nSpRZRjpcHqpCpqnqFRGmvPLtLGmCdCsGLLdtC',\n",
       " 'PJPLPPHDdPvdnbctfcpt',\n",
       " 'NRrGNjNzLjltppvpRSRS',\n",
       " 'LzVWLjTWGLQqBgZWJWBBFg',\n",
       " 'znzccGnswWrWNCpvvdTCzddC',\n",
       " 'RfZlRDDDZflSBMhhhPSMMZpmpHHGNCGTmCJTmvmCvJGR',\n",
       " 'GbBMhhbSMhMffDMZPggSGfhVWLwjsLttWtrjWscVLWnQWswn',\n",
       " 'jwRzdZZhwhwHSQqpStJHhp',\n",
       " 'GVGPBvNPvffpvtvp',\n",
       " 'nsGGDVtFNGgGWjWlTwrwTmjwTR',\n",
       " 'MQtmmMMmnHGGTmhw',\n",
       " 'llqvqvvpqdvvrSfrpSfdfnhFSTMNDHFMNFFSGFwMHT',\n",
       " 'JqvvRgpCfrzCpqqzdfRpRllWZZBQJbVVtMttsVWJbjPbcc',\n",
       " 'zgqBczqBbBGjdHVgdDFd',\n",
       " 'lNVhNNnLtZZZGWjdWrSW',\n",
       " 'PCQhNflCtCwtJwhClMmVcRmpbPqTcmBqpm',\n",
       " 'wWbqbTwVrQLqlMtrZtZffNfMfP',\n",
       " 'vhjqqRpRvZsfssZN',\n",
       " 'ccBjJBqGpRhDGbJldHlgLwddLd',\n",
       " 'hVScjtgcchVhSgZJSchVwLbNLWnLNwwnwrbWNLgr',\n",
       " 'BzMdBqzBQzZQPpfrsrbrNdNLsrRR',\n",
       " 'zPMzmmGpmzGlFQPPmlZPzSVTSVJJcSlcDhTlvSCtjJ',\n",
       " 'hzdwlqngZQvDfmzF',\n",
       " 'vcRrcsVNpVQsFfBfPPQB',\n",
       " 'HCHVWVcCpNMHWRjLwhvhggdjvggM',\n",
       " 'LBHCTPzHHBcClwppwjjNNl',\n",
       " 'JddZMRmmssVmvDvJddSJWVWBwpQvwfpwvwwfrrFNQfwjpl',\n",
       " 'BsVMVZDVZssZhMhJqLzhzzHzPTPnLGqb',\n",
       " 'bcnNQnBTvvvWTQTJhdHJzhSjpJJjStjd',\n",
       " 'mMwqwVMMRwhBtjdSVBVl',\n",
       " 'GfsrwCRmZBcZTvBf',\n",
       " 'bBjQmmmqWdLqvLbWLtNJccNZZgCBCZgCTg',\n",
       " 'phfpfzpHPDwfMwvVzlhlJJlggcZgZcRFFlCgZg',\n",
       " 'zfhpMMDpVVzzhHhzzMMwfnMfSmQmbQvvWqWjmLSqdQmrqjjn',\n",
       " 'ZzdcbGTwLZwPPwpMPWpjWPpWChBC',\n",
       " 'nmznNRFHQrqQvqqmmMfWWWpMFjspWFMWjB',\n",
       " 'zqRDSmDrmvnvntGccGdcTVtLTlVG',\n",
       " 'nfnVscTcDzsZqmRtjtsqjJ',\n",
       " 'wnnhWPWLBNwPLHdQdWdHPHLdJjqRRqrvjrmqFtvRqtQRqFjm',\n",
       " 'bWhHdBBLdLnShWHcTVzCfCpVDTblpT',\n",
       " 'WSjVFSVTSWvgvFwpgTTFsfdVclhNCfsHnHlHsCfV',\n",
       " 'zRqLqZqZZQcdNltfHzsd',\n",
       " 'ZqBqGLLRcjWWBvTT',\n",
       " 'wwBqgZfbgbZsvWmfJrtFrdDttqdFdLct',\n",
       " 'SNSSVTnnThnCSPPnzVztQJJQdLPtFcGLdFGDsD',\n",
       " 'lSlszRVsRjmmfjfRRf',\n",
       " 'NGzGWSLzMdQtcctbgWjt',\n",
       " 'vqTnfVVHBffnCmHgMtrrrHrgtcrt',\n",
       " 'vqCDVlFnnCnnBSzlspSzLSNMLL',\n",
       " 'rwVlfVMRSTqTgRhT',\n",
       " 'pppjLtpZjHFHNhsctSqDDVtnns',\n",
       " 'HNjJLFBFHZZzWbVBZGfwdGrMfCCfGvmzlM',\n",
       " 'zFzztqWnJttqqzJtdqbtqbPVMGcGZwgPGVwGQjwCCggMZQ',\n",
       " 'hssLlrsSrBmBrZGSfgwgSwQCcj',\n",
       " 'BmBBDBHLrlNhLNHrpsDvLJNtddczdRzzcTqJzzdWnc',\n",
       " 'pLWcpGSscLQPDzLBgdbmdZHBHmZB',\n",
       " 'lntfCfVMvtttqVqnZHHbbBZmwwwCdHhc',\n",
       " 'qqRJFfRFRNlTzSSWWzSJpc',\n",
       " 'DrphDfFrdGGjTTgTgCSV',\n",
       " 'vbsMZPnPvqHMQvtZZPWBBVVBJjWSVTPjJC',\n",
       " 'nMbnsRSQvvLRMsssQhdFrcwczLlDrrDzhz',\n",
       " 'LLlDQlcLDqLSlCDRlRDCqTTzzgNzShSBdZGBFBBgNG',\n",
       " 'nHnMwPPbrWwpmztdMtzFZZFtTN',\n",
       " 'PJfbZmHrpJfZDRLlDlLcVsVJ',\n",
       " 'wZwQsrrzQFQSrRSFbzDglcdCcdljjdlljcvslLhv',\n",
       " 'VPqGJtqqfnJcCLFllFMGcd',\n",
       " 'fNHPJWpmHfffqJHmwzgbrBDZrDbFRQ',\n",
       " 'HggtSJtzrgltshlTsrzbzsgbFddfffDZwZRZZZGfGDRTNNZZ',\n",
       " 'LnjWccmQBPWqmWPqMfFNdGBRCDFFSfDfRd',\n",
       " 'WpMjWpMcWSjqqPjQLmvmjMgllsbgbtvsrrtvJgJHhrHl',\n",
       " 'PMcMcBpztMztzPPhbSgGSvgfHD',\n",
       " 'nsmsVQVZVQmTRmddrLgfFhfLgLDzgvffDhbF',\n",
       " 'dwsjrQQrVwTmZRTzsTdBcjqlqWpcCCppcllltC',\n",
       " 'DbVjbjwNMDTCVbhbTNDrVTTmzFGLFLHcLHzmcWFczLHwmH',\n",
       " 'PPWsfBZngtZqZZnPgZnPqvmFmczgRHGmGSRRSSLGFF',\n",
       " 'sntBlWPdnspnnPQZtnNNNMjhMNrVMjMThjpr',\n",
       " 'rCrCWVvvWDnBWvDnWDMCMZTpThhGGhGRGqGqZmhZqV',\n",
       " 'NNjQMzNzQjjwNmJNmZddpdTG',\n",
       " 'QwtwLPcjPtQlHSSslzwHSlPQDfDWsggsvvBvDvnvgngCnvFM',\n",
       " 'ZDCbvbDvvHbCGTWpZTtWWQnn',\n",
       " 'hLqzLVhVwNwVfMnJrfqMzWrQddgmQQGdgpgQGmgjTj',\n",
       " 'wlVNwJJfVRLPRnHRbFHRsP',\n",
       " 'lLmvLGRCrmDwVPVsjmtBBQmt',\n",
       " 'NSHWNbzSHWpSpfChqqJPnzBJsBPPJnQJ',\n",
       " 'pWcHbNfWpgZcWbhbZSgchWpRdCZMMdGDFFrLwlwMRRZFdd',\n",
       " 'PnNrFVZQHNDrmNQPflbhbfqbvhwbVfvq',\n",
       " 'TCdTtpCtCWTBMtjTJMWtBMCLSfvbqqzqbljflwDLvLjLLf',\n",
       " 'MCCGcpCJRWTTMGmPnDFNQQnDns',\n",
       " 'FhSmttZmgLjJVMlVGllGjcrj',\n",
       " 'NRNvNWNCdnNrBvWvwRdWvvvRCGcbVVQbMQGcGcVcMclzVVlG',\n",
       " 'qwBsBWwnvdtHJJSrtHsr',\n",
       " 'wnwPrnBBPgqRPjhgCRGCLvvbRZcJvCbb',\n",
       " 'dWVdVdlMHtsTslMtzztFGGczvvGJzL',\n",
       " 'fMflHpddJfNNVfNWWmDqQpwBgwnjPBQDjqBh',\n",
       " 'WttGctsNCNrfwTMlBtlr',\n",
       " 'HJLzLJJVnFjHbnbVjDHDdFqwwffTTfTGwrqwBBTT',\n",
       " 'jgVgJSbnHjNWsWCSWWGG',\n",
       " 'ssLfHLvrrfMMlBMRMfpd',\n",
       " 'qbbhmGCCVDQhQQVzDDbqmhMBtDZdBZHlddpltpBpdlJd',\n",
       " 'QhQbzqCGzVzSbqzLHjLgrcjvPSnnSL',\n",
       " 'NGGZGsGFCGvCcnCcgnZWrPHjsJjHjTDjJHfrjHDP',\n",
       " 'RzzQmwwmdRRwMqRQmZwtfrDPfTfrbjHqrDPTHr',\n",
       " 'MBLphmLpSzdRlnWZCNcGLgLG',\n",
       " 'LwPPHZLLWRMWMsHqTCjmTTjSTn',\n",
       " 'lFpNNpzplbfphzNcQzVcpvzsnqTsggmnjfgqCDsnCDqsgS',\n",
       " 'vFJJhQVhbcVddLtmWZJdmm',\n",
       " 'GwMNMGBMRMGjdSGsDntglDrDGQ',\n",
       " 'WTmPPzfmlQrsnQmg',\n",
       " 'ZPTJVvllhBwvLvwRwj',\n",
       " 'nlSvqqFqzfnbnvFwwsGHTBHgPfWsTrRPgG',\n",
       " 'dMdjphVhhgdLVJhNRBGPRWWBBGPTTGHV',\n",
       " 'thJgLpghLNLhNQMCtdMhSmFlQnzzwnbzlbqqSQFb',\n",
       " 'ZJJLBWhJBNwJwLvgRgGRgbZqbHTbGT',\n",
       " 'cCrfFFnzjmdrdrmmzsgSPSHSbHWPRgrgGR',\n",
       " 'dmCFntnFctjfdVtttjtDVncfBDlNJJppwQMwNBNvvplppWNh',\n",
       " 'GGNNNbNbqmsmTVbCDQQhDJQT',\n",
       " 'rgPvdgMdPdBddvMcrMnvgcSwhClTTJCwClDTvLJJthTlth',\n",
       " 'zBdWpnDBDmfFGRffzH',\n",
       " 'WNNNWcDcdVHNQTNT',\n",
       " 'lLvLctvrvvvPCpHLQQTZVQLTTHBV',\n",
       " 'zltgpbPCrrmtlmrlhhbqcWMqDDMDFMfbGScc',\n",
       " 'dzSHRCGZGdRQWQWtllWB',\n",
       " 'mNmbLbbmwjsmsNjDmcPvpVHBVPQvWDWBBpvB',\n",
       " 'jnmNNrLcnnjjHhSCdGMSfrfd',\n",
       " 'mgGvfvJSmSSrbvScmGccTPCqNnRjlpNNfNjqwqlpNpfw',\n",
       " 'zZLLQFFFtsFwWjjRqbbCsW',\n",
       " 'hBBLBdFHddVrGbVc',\n",
       " 'bJGchsCcHwbHfgvg',\n",
       " 'qdlSSNqLPqlPQZDffgfZRZMghvZr',\n",
       " 'PLtqtFTPNLlWlqtQqqQzBBmcnschGtjtnChmzC',\n",
       " 'llNLDLzjDtCTVtClCDMHSlmwdmmdSmddwZSS',\n",
       " 'gPJszvsBPbwSHZRQSJQJ',\n",
       " 'bgFssFPcWhDjCzLcnNDD',\n",
       " 'ZTGMwdhMwMJphZMJlNdVBCnncNPLBCCRPnCncn',\n",
       " 'fWsqmfSsqvfFFFvmWjfSSsPLCwVPRnPRCmRnRRCVzRCV',\n",
       " 'FQfQfvStwjtqsjvvQWFfWqWtlMDdGTJJGdMdhJtDMbllDZ',\n",
       " 'DzZLpBDptpVPrrrFPqRmBj',\n",
       " 'WsfCTTgMllCWJMlhslNsCFJrGqvmRPqmqZjGFjvmvm',\n",
       " 'HfghcNghHhgNNfbDDZdcdpndDzpt',\n",
       " 'RRBRdJfccVRdDJqdDrvwShwvztWJlWwSJn',\n",
       " 'mPtCHPPmHbmHNZjjjQHbMSgrSWhWzWnnQwvzzrlrll',\n",
       " 'tpFmjpmjFMCmppmVTVLFVfBqTqVDLd',\n",
       " 'jtljZcTcVVtdggVmdczzzDPzvCsvRbDsDmvm',\n",
       " 'MHHnnJMFMNpwSNprpMJrfsbPRRbWDGLbHLDRvzzssR',\n",
       " 'rJFNvQfBSwQBwNwldZTqTtctQchthc',\n",
       " 'WsWTWsfjgTJGSnTz',\n",
       " 'RHNmvRLCpJclcNcvHpNcPBzgQgMnnGFnLFgPgnPF',\n",
       " 'mHlcdbbccZcCCCNZZNcCWtthWbWqwwJsbDfthfwW',\n",
       " 'vFFzppnHFrjmpljQhg',\n",
       " 'JPGfPWVdwfPgQzVQlTrQrZ',\n",
       " 'PwRJfGDBfCHMzRHNHMNR']"
      ]
     },
     "execution_count": 20,
     "metadata": {},
     "output_type": "execute_result"
    }
   ],
   "source": [
    "data.splitlines()"
   ]
  },
  {
   "cell_type": "code",
   "execution_count": 21,
   "metadata": {},
   "outputs": [],
   "source": [
    "b = 0\n",
    "for s1, s2, s3 in chunks(data.splitlines()):\n",
    "    [c] = set(s1).intersection(s2, s3)\n",
    "    b += c.isupper() * 26\n",
    "    b += ord(c.lower()) - ord(\"a\") + 1"
   ]
  },
  {
   "cell_type": "code",
   "execution_count": 23,
   "metadata": {},
   "outputs": [
    {
     "name": "stderr",
     "output_type": "stream",
     "text": [
      "answer a: 8349\n",
      "submitting for part b (part a is already completed)\n"
     ]
    },
    {
     "name": "stdout",
     "output_type": "stream",
     "text": [
      "That's the right answer!  You are one gold star closer to collecting enough star fruit.You have completed Day 3! You can [Shareon\n",
      "  Twitter\n",
      "Mastodon] this victory or [Return to Your Advent Calendar].\n"
     ]
    },
    {
     "data": {
      "text/plain": [
       "<Response [200]>"
      ]
     },
     "execution_count": 23,
     "metadata": {},
     "output_type": "execute_result"
    }
   ],
   "source": [
    "submit(b, day =3, year=2022)"
   ]
  },
  {
   "cell_type": "markdown",
   "metadata": {},
   "source": []
  }
 ],
 "metadata": {
  "kernelspec": {
   "display_name": "Python 3.9.7 ('base')",
   "language": "python",
   "name": "python3"
  },
  "language_info": {
   "codemirror_mode": {
    "name": "ipython",
    "version": 3
   },
   "file_extension": ".py",
   "mimetype": "text/x-python",
   "name": "python",
   "nbconvert_exporter": "python",
   "pygments_lexer": "ipython3",
   "version": "3.9.7"
  },
  "orig_nbformat": 4,
  "vscode": {
   "interpreter": {
    "hash": "61ab73777d58cad6d7db69f2332db56b440d9a285e192ce35b262707a4c69784"
   }
  }
 },
 "nbformat": 4,
 "nbformat_minor": 2
}
